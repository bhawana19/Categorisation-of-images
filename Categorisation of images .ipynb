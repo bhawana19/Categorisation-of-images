{
 "cells": [
  {
   "cell_type": "code",
   "execution_count": 1,
   "metadata": {},
   "outputs": [
    {
     "name": "stderr",
     "output_type": "stream",
     "text": [
      "Using TensorFlow backend.\n"
     ]
    }
   ],
   "source": [
    "import os \n",
    "import keras\n",
    "import pandas as pd\n",
    "os.chdir(r\"E:\\003 IBM CE\\3. Artificial Intelligence\\Mody\\00 Assignments\\Case Study\\final_data\")"
   ]
  },
  {
   "cell_type": "code",
   "execution_count": 5,
   "metadata": {},
   "outputs": [],
   "source": [
    "from keras.preprocessing.image import load_img,img_to_array\n",
    "from keras.applications.vgg16 import VGG16,preprocess_input,decode_predictions\n",
    "import pathlib"
   ]
  },
  {
   "cell_type": "code",
   "execution_count": 6,
   "metadata": {},
   "outputs": [
    {
     "name": "stdout",
     "output_type": "stream",
     "text": [
      "WARNING:tensorflow:From C:\\Users\\sande\\Anaconda3\\lib\\site-packages\\keras\\backend\\tensorflow_backend.py:74: The name tf.get_default_graph is deprecated. Please use tf.compat.v1.get_default_graph instead.\n",
      "\n",
      "WARNING:tensorflow:From C:\\Users\\sande\\Anaconda3\\lib\\site-packages\\keras\\backend\\tensorflow_backend.py:517: The name tf.placeholder is deprecated. Please use tf.compat.v1.placeholder instead.\n",
      "\n",
      "WARNING:tensorflow:From C:\\Users\\sande\\Anaconda3\\lib\\site-packages\\keras\\backend\\tensorflow_backend.py:4138: The name tf.random_uniform is deprecated. Please use tf.random.uniform instead.\n",
      "\n",
      "WARNING:tensorflow:From C:\\Users\\sande\\Anaconda3\\lib\\site-packages\\keras\\backend\\tensorflow_backend.py:3976: The name tf.nn.max_pool is deprecated. Please use tf.nn.max_pool2d instead.\n",
      "\n",
      "WARNING:tensorflow:From C:\\Users\\sande\\Anaconda3\\lib\\site-packages\\keras\\backend\\tensorflow_backend.py:174: The name tf.get_default_session is deprecated. Please use tf.compat.v1.get_default_session instead.\n",
      "\n",
      "WARNING:tensorflow:From C:\\Users\\sande\\Anaconda3\\lib\\site-packages\\keras\\backend\\tensorflow_backend.py:181: The name tf.ConfigProto is deprecated. Please use tf.compat.v1.ConfigProto instead.\n",
      "\n"
     ]
    }
   ],
   "source": [
    "model=VGG16()\n",
    "output={}\n",
    "data_dir=r\"E:\\003 IBM CE\\3. Artificial Intelligence\\Mody\\00 Assignments\\Case Study\\final_data\"\n",
    "data_dir=pathlib.Path(data_dir)\n",
    "\n",
    "for i in list(data_dir.glob(\"*\")):\n",
    "    image=load_img(f'{i}',target_size=(224,224))\n",
    "    image=img_to_array(image)\n",
    "    image=image.reshape(1,image.shape[0],image.shape[1],image.shape[2])\n",
    "    image=preprocess_input(image)\n",
    "    predictions=model.predict(image)\n",
    "    label=decode_predictions(predictions)\n",
    "    label=label[0][0]\n",
    "    output.update({i:label})"
   ]
  },
  {
   "cell_type": "code",
   "execution_count": 12,
   "metadata": {},
   "outputs": [],
   "source": [
    "df=pd.DataFrame(output,index=[0,'folder',2])\n",
    "df=df.transpose()"
   ]
  },
  {
   "cell_type": "code",
   "execution_count": 14,
   "metadata": {},
   "outputs": [
    {
     "data": {
      "text/html": [
       "<div>\n",
       "<style scoped>\n",
       "    .dataframe tbody tr th:only-of-type {\n",
       "        vertical-align: middle;\n",
       "    }\n",
       "\n",
       "    .dataframe tbody tr th {\n",
       "        vertical-align: top;\n",
       "    }\n",
       "\n",
       "    .dataframe thead th {\n",
       "        text-align: right;\n",
       "    }\n",
       "</style>\n",
       "<table border=\"1\" class=\"dataframe\">\n",
       "  <thead>\n",
       "    <tr style=\"text-align: right;\">\n",
       "      <th></th>\n",
       "      <th>0</th>\n",
       "      <th>folder</th>\n",
       "      <th>2</th>\n",
       "    </tr>\n",
       "  </thead>\n",
       "  <tbody>\n",
       "    <tr>\n",
       "      <th>E:\\003 IBM CE\\3. Artificial Intelligence\\Mody\\00 Assignments\\Case Study\\final_data\\109443289_b3edb30465_o.jpg</th>\n",
       "      <td>n03642806</td>\n",
       "      <td>laptop</td>\n",
       "      <td>0.520752</td>\n",
       "    </tr>\n",
       "    <tr>\n",
       "      <th>E:\\003 IBM CE\\3. Artificial Intelligence\\Mody\\00 Assignments\\Case Study\\final_data\\109877767_ff8f921b95_o.jpg</th>\n",
       "      <td>n04536866</td>\n",
       "      <td>violin</td>\n",
       "      <td>0.256565</td>\n",
       "    </tr>\n",
       "    <tr>\n",
       "      <th>E:\\003 IBM CE\\3. Artificial Intelligence\\Mody\\00 Assignments\\Case Study\\final_data\\112568527_4afd965e6d_o.jpg</th>\n",
       "      <td>n02085620</td>\n",
       "      <td>Chihuahua</td>\n",
       "      <td>0.726291</td>\n",
       "    </tr>\n",
       "    <tr>\n",
       "      <th>E:\\003 IBM CE\\3. Artificial Intelligence\\Mody\\00 Assignments\\Case Study\\final_data\\1322285840_13371404fb_o.jpg</th>\n",
       "      <td>n02690373</td>\n",
       "      <td>airliner</td>\n",
       "      <td>0.967224</td>\n",
       "    </tr>\n",
       "    <tr>\n",
       "      <th>E:\\003 IBM CE\\3. Artificial Intelligence\\Mody\\00 Assignments\\Case Study\\final_data\\145039929_c699b8f866_o.jpg</th>\n",
       "      <td>n02106662</td>\n",
       "      <td>German_shepherd</td>\n",
       "      <td>0.956191</td>\n",
       "    </tr>\n",
       "  </tbody>\n",
       "</table>\n",
       "</div>"
      ],
      "text/plain": [
       "                                                            0  \\\n",
       "E:\\003 IBM CE\\3. Artificial Intelligence\\Mody\\0...  n03642806   \n",
       "E:\\003 IBM CE\\3. Artificial Intelligence\\Mody\\0...  n04536866   \n",
       "E:\\003 IBM CE\\3. Artificial Intelligence\\Mody\\0...  n02085620   \n",
       "E:\\003 IBM CE\\3. Artificial Intelligence\\Mody\\0...  n02690373   \n",
       "E:\\003 IBM CE\\3. Artificial Intelligence\\Mody\\0...  n02106662   \n",
       "\n",
       "                                                             folder         2  \n",
       "E:\\003 IBM CE\\3. Artificial Intelligence\\Mody\\0...           laptop  0.520752  \n",
       "E:\\003 IBM CE\\3. Artificial Intelligence\\Mody\\0...           violin  0.256565  \n",
       "E:\\003 IBM CE\\3. Artificial Intelligence\\Mody\\0...        Chihuahua  0.726291  \n",
       "E:\\003 IBM CE\\3. Artificial Intelligence\\Mody\\0...         airliner  0.967224  \n",
       "E:\\003 IBM CE\\3. Artificial Intelligence\\Mody\\0...  German_shepherd  0.956191  "
      ]
     },
     "execution_count": 14,
     "metadata": {},
     "output_type": "execute_result"
    }
   ],
   "source": [
    "df.head()"
   ]
  },
  {
   "cell_type": "code",
   "execution_count": 15,
   "metadata": {},
   "outputs": [],
   "source": [
    "df.drop([0,2],axis=1,inplace=True)"
   ]
  },
  {
   "cell_type": "code",
   "execution_count": 16,
   "metadata": {},
   "outputs": [
    {
     "data": {
      "text/html": [
       "<div>\n",
       "<style scoped>\n",
       "    .dataframe tbody tr th:only-of-type {\n",
       "        vertical-align: middle;\n",
       "    }\n",
       "\n",
       "    .dataframe tbody tr th {\n",
       "        vertical-align: top;\n",
       "    }\n",
       "\n",
       "    .dataframe thead th {\n",
       "        text-align: right;\n",
       "    }\n",
       "</style>\n",
       "<table border=\"1\" class=\"dataframe\">\n",
       "  <thead>\n",
       "    <tr style=\"text-align: right;\">\n",
       "      <th></th>\n",
       "      <th>folder</th>\n",
       "    </tr>\n",
       "  </thead>\n",
       "  <tbody>\n",
       "    <tr>\n",
       "      <th>E:\\003 IBM CE\\3. Artificial Intelligence\\Mody\\00 Assignments\\Case Study\\final_data\\109443289_b3edb30465_o.jpg</th>\n",
       "      <td>laptop</td>\n",
       "    </tr>\n",
       "    <tr>\n",
       "      <th>E:\\003 IBM CE\\3. Artificial Intelligence\\Mody\\00 Assignments\\Case Study\\final_data\\109877767_ff8f921b95_o.jpg</th>\n",
       "      <td>violin</td>\n",
       "    </tr>\n",
       "    <tr>\n",
       "      <th>E:\\003 IBM CE\\3. Artificial Intelligence\\Mody\\00 Assignments\\Case Study\\final_data\\112568527_4afd965e6d_o.jpg</th>\n",
       "      <td>Chihuahua</td>\n",
       "    </tr>\n",
       "    <tr>\n",
       "      <th>E:\\003 IBM CE\\3. Artificial Intelligence\\Mody\\00 Assignments\\Case Study\\final_data\\1322285840_13371404fb_o.jpg</th>\n",
       "      <td>airliner</td>\n",
       "    </tr>\n",
       "    <tr>\n",
       "      <th>E:\\003 IBM CE\\3. Artificial Intelligence\\Mody\\00 Assignments\\Case Study\\final_data\\145039929_c699b8f866_o.jpg</th>\n",
       "      <td>German_shepherd</td>\n",
       "    </tr>\n",
       "  </tbody>\n",
       "</table>\n",
       "</div>"
      ],
      "text/plain": [
       "                                                             folder\n",
       "E:\\003 IBM CE\\3. Artificial Intelligence\\Mody\\0...           laptop\n",
       "E:\\003 IBM CE\\3. Artificial Intelligence\\Mody\\0...           violin\n",
       "E:\\003 IBM CE\\3. Artificial Intelligence\\Mody\\0...        Chihuahua\n",
       "E:\\003 IBM CE\\3. Artificial Intelligence\\Mody\\0...         airliner\n",
       "E:\\003 IBM CE\\3. Artificial Intelligence\\Mody\\0...  German_shepherd"
      ]
     },
     "execution_count": 16,
     "metadata": {},
     "output_type": "execute_result"
    }
   ],
   "source": [
    "df.head()"
   ]
  },
  {
   "cell_type": "code",
   "execution_count": 20,
   "metadata": {},
   "outputs": [],
   "source": [
    "file=[]\n",
    "\n",
    "for i in df.index:\n",
    "    file.append(str(i).split(\"data\\\\\")[-1])"
   ]
  },
  {
   "cell_type": "code",
   "execution_count": 23,
   "metadata": {},
   "outputs": [],
   "source": [
    "df['file']=file"
   ]
  },
  {
   "cell_type": "code",
   "execution_count": 24,
   "metadata": {},
   "outputs": [
    {
     "data": {
      "text/html": [
       "<div>\n",
       "<style scoped>\n",
       "    .dataframe tbody tr th:only-of-type {\n",
       "        vertical-align: middle;\n",
       "    }\n",
       "\n",
       "    .dataframe tbody tr th {\n",
       "        vertical-align: top;\n",
       "    }\n",
       "\n",
       "    .dataframe thead th {\n",
       "        text-align: right;\n",
       "    }\n",
       "</style>\n",
       "<table border=\"1\" class=\"dataframe\">\n",
       "  <thead>\n",
       "    <tr style=\"text-align: right;\">\n",
       "      <th></th>\n",
       "      <th>folder</th>\n",
       "      <th>file</th>\n",
       "    </tr>\n",
       "  </thead>\n",
       "  <tbody>\n",
       "    <tr>\n",
       "      <th>E:\\003 IBM CE\\3. Artificial Intelligence\\Mody\\00 Assignments\\Case Study\\final_data\\109443289_b3edb30465_o.jpg</th>\n",
       "      <td>laptop</td>\n",
       "      <td>109443289_b3edb30465_o.jpg</td>\n",
       "    </tr>\n",
       "    <tr>\n",
       "      <th>E:\\003 IBM CE\\3. Artificial Intelligence\\Mody\\00 Assignments\\Case Study\\final_data\\109877767_ff8f921b95_o.jpg</th>\n",
       "      <td>violin</td>\n",
       "      <td>109877767_ff8f921b95_o.jpg</td>\n",
       "    </tr>\n",
       "    <tr>\n",
       "      <th>E:\\003 IBM CE\\3. Artificial Intelligence\\Mody\\00 Assignments\\Case Study\\final_data\\112568527_4afd965e6d_o.jpg</th>\n",
       "      <td>Chihuahua</td>\n",
       "      <td>112568527_4afd965e6d_o.jpg</td>\n",
       "    </tr>\n",
       "    <tr>\n",
       "      <th>E:\\003 IBM CE\\3. Artificial Intelligence\\Mody\\00 Assignments\\Case Study\\final_data\\1322285840_13371404fb_o.jpg</th>\n",
       "      <td>airliner</td>\n",
       "      <td>1322285840_13371404fb_o.jpg</td>\n",
       "    </tr>\n",
       "    <tr>\n",
       "      <th>E:\\003 IBM CE\\3. Artificial Intelligence\\Mody\\00 Assignments\\Case Study\\final_data\\145039929_c699b8f866_o.jpg</th>\n",
       "      <td>German_shepherd</td>\n",
       "      <td>145039929_c699b8f866_o.jpg</td>\n",
       "    </tr>\n",
       "  </tbody>\n",
       "</table>\n",
       "</div>"
      ],
      "text/plain": [
       "                                                             folder  \\\n",
       "E:\\003 IBM CE\\3. Artificial Intelligence\\Mody\\0...           laptop   \n",
       "E:\\003 IBM CE\\3. Artificial Intelligence\\Mody\\0...           violin   \n",
       "E:\\003 IBM CE\\3. Artificial Intelligence\\Mody\\0...        Chihuahua   \n",
       "E:\\003 IBM CE\\3. Artificial Intelligence\\Mody\\0...         airliner   \n",
       "E:\\003 IBM CE\\3. Artificial Intelligence\\Mody\\0...  German_shepherd   \n",
       "\n",
       "                                                                           file  \n",
       "E:\\003 IBM CE\\3. Artificial Intelligence\\Mody\\0...   109443289_b3edb30465_o.jpg  \n",
       "E:\\003 IBM CE\\3. Artificial Intelligence\\Mody\\0...   109877767_ff8f921b95_o.jpg  \n",
       "E:\\003 IBM CE\\3. Artificial Intelligence\\Mody\\0...   112568527_4afd965e6d_o.jpg  \n",
       "E:\\003 IBM CE\\3. Artificial Intelligence\\Mody\\0...  1322285840_13371404fb_o.jpg  \n",
       "E:\\003 IBM CE\\3. Artificial Intelligence\\Mody\\0...   145039929_c699b8f866_o.jpg  "
      ]
     },
     "execution_count": 24,
     "metadata": {},
     "output_type": "execute_result"
    }
   ],
   "source": [
    "df.head()"
   ]
  },
  {
   "cell_type": "code",
   "execution_count": 25,
   "metadata": {},
   "outputs": [
    {
     "data": {
      "text/plain": [
       "array(['laptop', 'violin', 'Chihuahua', 'airliner', 'German_shepherd',\n",
       "       'church', 'tabby', 'Arabian_camel', 'acoustic_guitar'],\n",
       "      dtype=object)"
      ]
     },
     "execution_count": 25,
     "metadata": {},
     "output_type": "execute_result"
    }
   ],
   "source": [
    "df.folder.unique()"
   ]
  },
  {
   "cell_type": "code",
   "execution_count": 32,
   "metadata": {},
   "outputs": [],
   "source": [
    "for i in df.folder.unique():\n",
    "    j=str(i).split(\"_\")[0]\n",
    "    j=str(j).lower()\n",
    "    os.mkdir(fr\"E:\\003 IBM CE\\3. Artificial Intelligence\\Mody\\00 Assignments\\Case Study\\{j}\")"
   ]
  },
  {
   "cell_type": "code",
   "execution_count": 33,
   "metadata": {},
   "outputs": [],
   "source": [
    "from PIL import Image\n",
    "\n",
    "for i,j in zip(df.file,df.folder):\n",
    "    j=str(j).split('_')[0] \n",
    "    j=str(j).lower() \n",
    "    img=Image.open(fr\"E:\\003 IBM CE\\3. Artificial Intelligence\\Mody\\00 Assignments\\Case Study\\final_data\\{i}\")\n",
    "    img.save(fr\"E:\\003 IBM CE\\3. Artificial Intelligence\\Mody\\00 Assignments\\Case Study\\{j}{i}\")"
   ]
  },
  {
   "cell_type": "code",
   "execution_count": null,
   "metadata": {},
   "outputs": [],
   "source": []
  }
 ],
 "metadata": {
  "kernelspec": {
   "display_name": "Python 3",
   "language": "python",
   "name": "python3"
  },
  "language_info": {
   "codemirror_mode": {
    "name": "ipython",
    "version": 3
   },
   "file_extension": ".py",
   "mimetype": "text/x-python",
   "name": "python",
   "nbconvert_exporter": "python",
   "pygments_lexer": "ipython3",
   "version": "3.7.1"
  }
 },
 "nbformat": 4,
 "nbformat_minor": 4
}
